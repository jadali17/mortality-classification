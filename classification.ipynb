{
 "cells": [
  {
   "cell_type": "code",
   "execution_count": 1,
   "metadata": {},
   "outputs": [],
   "source": [
    "import numpy as np\n",
    "import pandas as pd\n",
    "pd.options.mode.chained_assignment = None \n",
    "\n",
    "from copy import deepcopy\n",
    "\n",
    "from sklearn.metrics import accuracy_score\n",
    "\n",
    "from sklearn.model_selection import train_test_split\n",
    "from sklearn.model_selection import cross_validate\n",
    "\n",
    "from sklearn.neighbors import KNeighborsClassifier\n",
    "from sklearn.naive_bayes import GaussianNB\n",
    "from sklearn.tree import DecisionTreeClassifier\n",
    "from sklearn.svm import SVC\n",
    "from sklearn.neural_network import MLPClassifier"
   ]
  },
  {
   "cell_type": "markdown",
   "metadata": {},
   "source": [
    "# 1) Loading in the merged data and droping rows containing null values"
   ]
  },
  {
   "cell_type": "code",
   "execution_count": 2,
   "metadata": {},
   "outputs": [],
   "source": [
    "# Read data from merged_data.csv file\n",
    "data_init = pd.read_csv(\"Data/merged_data.csv\")\n",
    "\n",
    "# Drop rows where any value is null\n",
    "data = data_init.dropna(axis=0)\n"
   ]
  },
  {
   "cell_type": "markdown",
   "metadata": {},
   "source": [
    "# 2) Creating classes according to intervals for the mortality\n"
   ]
  },
  {
   "cell_type": "code",
   "execution_count": 3,
   "metadata": {},
   "outputs": [],
   "source": [
    "# Creating classes for mortality by discretizing the mortality_rate data\n",
    "discretize = lambda x : \"low\" if x < 80 else \"average\" if x < 200 else \"high\" if x < 325 else \"highest\"\n",
    "data.loc[:, \"mortality_rate\"] = data.loc[:, \"mortality_rate\"].map(discretize)\n"
   ]
  },
  {
   "cell_type": "markdown",
   "metadata": {},
   "source": [
    "# 3) Splitting in X, y data and training, testing sets"
   ]
  },
  {
   "cell_type": "code",
   "execution_count": 4,
   "metadata": {},
   "outputs": [],
   "source": [
    "# Data splitting into training and testing sets\n",
    "data_X = data.drop(data.columns[[0, 1, 2]], axis=1)\n",
    "data_y = data.drop(data.columns[[0, 1, 3, 4, 5, 6]], axis=1)\n",
    "data_y.head(15)\n",
    "\n",
    "# Splitting into train and test sets\n",
    "X_train, X_test, y_train, y_test = train_test_split(data_X, np.ravel(data_y), test_size=.20, shuffle=True)\n"
   ]
  },
  {
   "cell_type": "markdown",
   "metadata": {},
   "source": [
    "# 4) Model selection\n",
    "## TODO: Play with parameters and find best parameters for each classifier\n"
   ]
  },
  {
   "cell_type": "code",
   "execution_count": 5,
   "metadata": {},
   "outputs": [],
   "source": [
    "# Cross-validation and model selection\n",
    "\n",
    "# Different classifiers for cross-validation\n",
    "knn = KNeighborsClassifier(n_neighbors=10)\n",
    "bayes = GaussianNB()\n",
    "trees = DecisionTreeClassifier()\n",
    "svm = SVC()\n",
    "network = MLPClassifier()\n",
    "\n",
    "# Creating list of clasifiers\n",
    "classifier_list = [knn, bayes, trees, svm, network]\n",
    "best_model = []\n",
    "\n",
    "# Iterating over classifiers\n",
    "for classifier in classifier_list: \n",
    "    scores = cross_validate(classifier, X_train, y_train, scoring=\"accuracy\", return_train_score=True, return_estimator=True)\n",
    "    best_model.append(deepcopy(scores[\"estimator\"][np.argmax(scores[\"train_score\"])]))\n",
    "    \n"
   ]
  },
  {
   "cell_type": "markdown",
   "metadata": {},
   "source": [
    "# 5) Testing and results\n"
   ]
  },
  {
   "cell_type": "code",
   "execution_count": 6,
   "metadata": {},
   "outputs": [],
   "source": [
    "# Array to add all test scores obtain using predict method of each classifier.\n",
    "# In order K-Neighbors, Bayesian Classifier, Decision Tree Classifier, Support Vector Machine Classifier and Multi Layer Perceptron Classifier\n",
    "test_scores = [] \n",
    "\n",
    "# Iterating over best models obtained by crossvalidation\n",
    "for model in best_model:\n",
    "    y_pred = model.predict(X_test)\n",
    "    test_scores.append(accuracy_score(y_test, y_pred))\n",
    "\n"
   ]
  },
  {
   "cell_type": "code",
   "execution_count": null,
   "metadata": {},
   "outputs": [],
   "source": []
  }
 ],
 "metadata": {
  "kernelspec": {
   "display_name": "Python 3",
   "language": "python",
   "name": "python3"
  },
  "language_info": {
   "codemirror_mode": {
    "name": "ipython",
    "version": 3
   },
   "file_extension": ".py",
   "mimetype": "text/x-python",
   "name": "python",
   "nbconvert_exporter": "python",
   "pygments_lexer": "ipython3",
   "version": "3.7.3"
  }
 },
 "nbformat": 4,
 "nbformat_minor": 4
}
