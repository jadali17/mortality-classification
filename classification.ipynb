{
 "cells": [
  {
   "cell_type": "code",
   "execution_count": 1,
   "metadata": {},
   "outputs": [],
   "source": [
    "import numpy as np\n",
    "import pandas as pd\n",
    "import matplotlib.pyplot as plt\n",
    "\n",
    "pd.options.mode.chained_assignment = None \n",
    "\n",
    "from copy import deepcopy\n",
    "\n",
    "from sklearn.metrics import accuracy_score\n",
    "\n",
    "from sklearn.model_selection import train_test_split\n",
    "from sklearn.model_selection import cross_validate\n",
    "\n",
    "from sklearn.neighbors import KNeighborsClassifier\n",
    "from sklearn.naive_bayes import GaussianNB\n",
    "from sklearn.tree import DecisionTreeClassifier\n",
    "from sklearn.svm import SVC\n",
    "from sklearn.neural_network import MLPClassifier\n",
    "from sklearn.model_selection import GridSearchCV\n"
   ]
  },
  {
   "cell_type": "markdown",
   "metadata": {},
   "source": [
    "# 1) Loading in the merged data and droping rows containing null values"
   ]
  },
  {
   "cell_type": "code",
   "execution_count": 2,
   "metadata": {},
   "outputs": [],
   "source": [
    "# Read data from merged_data.csv file\n",
    "data_init = pd.read_csv(\"Data/merged_data.csv\")\n",
    "\n",
    "# Drop rows where any value is null\n",
    "data = data_init.dropna(axis=0)\n"
   ]
  },
  {
   "cell_type": "markdown",
   "metadata": {},
   "source": [
    "# 2) Creating classes according to intervals for the mortality\n"
   ]
  },
  {
   "cell_type": "code",
   "execution_count": 3,
   "metadata": {},
   "outputs": [],
   "source": [
    "# Creating classes for mortality by discretizing the mortality_rate data\n",
    "discretize = lambda x : \"low\" if x < 80 else \"average\" if x < 200 else \"high\" if x < 325 else \"highest\"\n",
    "data.loc[:, \"mortality_rate\"] = data.loc[:, \"mortality_rate\"].map(discretize)"
   ]
  },
  {
   "cell_type": "markdown",
   "metadata": {},
   "source": [
    "# 3) Splitting in X, y data and training, testing sets"
   ]
  },
  {
   "cell_type": "code",
   "execution_count": 4,
   "metadata": {},
   "outputs": [],
   "source": [
    "# Data splitting into training and testing sets\n",
    "data_X = data.drop(data.columns[[0, 1, 2]], axis=1)\n",
    "data_y = data.drop(data.columns[[0, 1, 3, 4, 5, 6]], axis=1)\n",
    "data_y.head(15)\n",
    "\n",
    "# Splitting into train and test sets\n",
    "X_train, X_test, y_train, y_test = train_test_split(data_X, np.ravel(data_y), test_size=.20, shuffle=True)\n"
   ]
  },
  {
   "cell_type": "markdown",
   "metadata": {},
   "source": [
    "# 4) Model selection"
   ]
  },
  {
   "cell_type": "markdown",
   "metadata": {},
   "source": [
    "## 4.1 k-nn parameters"
   ]
  },
  {
   "cell_type": "code",
   "execution_count": 5,
   "metadata": {
    "scrolled": true
   },
   "outputs": [
    {
     "name": "stdout",
     "output_type": "stream",
     "text": [
      "0.754822862541332 {'n_neighbors': 8}\n"
     ]
    }
   ],
   "source": [
    "# k-nn parameters\n",
    "parameters = { 'n_neighbors': range(3, 100) }\n",
    "clf = GridSearchCV(KNeighborsClassifier(), parameters, n_jobs=4)\n",
    "clf.fit(X=X_train, y=y_train)\n",
    "knn_model = clf.best_estimator_\n",
    "print (clf.best_score_, clf.best_params_) \n"
   ]
  },
  {
   "cell_type": "markdown",
   "metadata": {},
   "source": [
    "## 4.2 Decision tree parameters"
   ]
  },
  {
   "cell_type": "code",
   "execution_count": 6,
   "metadata": {},
   "outputs": [
    {
     "name": "stdout",
     "output_type": "stream",
     "text": [
      "Evaluating decision tree parameters...\n",
      "0.8829192253188476 {'criterion': 'entropy', 'max_depth': 78, 'min_samples_split': 2}\n"
     ]
    }
   ],
   "source": [
    "parameters = { 'criterion': ['gini', 'entropy'], \n",
    "              'max_depth': range(1, 100), \n",
    "              'min_samples_split': range(2, 10) }\n",
    "\n",
    "print(\"Evaluating decision tree parameters...\")\n",
    "clf = GridSearchCV(DecisionTreeClassifier(), parameters, n_jobs=4)\n",
    "clf.fit(X=X_train, y=y_train)\n",
    "tree_model = clf.best_estimator_\n",
    "print (clf.best_score_, clf.best_params_)"
   ]
  },
  {
   "cell_type": "markdown",
   "metadata": {},
   "source": [
    "## 4.3 SVC parameters"
   ]
  },
  {
   "cell_type": "code",
   "execution_count": 7,
   "metadata": {},
   "outputs": [
    {
     "name": "stdout",
     "output_type": "stream",
     "text": [
      "Evaluating SVC parameters...\n",
      "0.7051771374586678 {'C': 0.9052631578947369, 'kernel': 'rbf', 'shrinking': True}\n"
     ]
    }
   ],
   "source": [
    "parameters = { 'C': np.linspace(start=0.1, stop=1, num=20),\n",
    "              'kernel': ['poly', 'rbf', 'sigmoid'],\n",
    "              'shrinking': [True, False]\n",
    "             }\n",
    "\n",
    "print(\"Evaluating SVC parameters...\")\n",
    "clf = GridSearchCV(SVC(), parameters, n_jobs=8)\n",
    "clf.fit(X=X_train, y=y_train)\n",
    "svc_model = clf.best_estimator_\n",
    "print (clf.best_score_, clf.best_params_)"
   ]
  },
  {
   "cell_type": "markdown",
   "metadata": {},
   "source": [
    "## 4.4 NN parameters"
   ]
  },
  {
   "cell_type": "code",
   "execution_count": 8,
   "metadata": {
    "scrolled": true
   },
   "outputs": [
    {
     "name": "stdout",
     "output_type": "stream",
     "text": [
      "0.7851110061407652 {'hidden_layer_sizes': (64, 128, 256, 512, 512, 512, 256, 128, 64)}\n"
     ]
    }
   ],
   "source": [
    "small = (8, 8, 8)\n",
    "medium = (8, 16, 32, 16, 8)\n",
    "large = (32, 64, 128, 256, 128, 64, 32)\n",
    "very_large = (64, 128, 256, 512, 512, 512, 256, 128, 64)\n",
    "\n",
    "networks = [ small, medium, large, very_large ]\n",
    "parameters = {'hidden_layer_sizes': networks}\n",
    "\n",
    "clf = GridSearchCV(MLPClassifier(), parameters, n_jobs=4)\n",
    "clf.fit(X=X_train, y=y_train)\n",
    "nn_model = clf.best_estimator_\n",
    "print (clf.best_score_, clf.best_params_)"
   ]
  },
  {
   "cell_type": "markdown",
   "metadata": {},
   "source": [
    "## 4.5 Cross-validation and model selection"
   ]
  },
  {
   "cell_type": "code",
   "execution_count": 9,
   "metadata": {
    "scrolled": true
   },
   "outputs": [],
   "source": [
    "# Different classifiers for cross-validation\n",
    "bayes_model = GaussianNB()\n",
    "\n",
    "# Creating list of clasifiers\n",
    "classifier_list = [knn_model, bayes_model, tree_model, svc_model, nn_model]\n",
    "best_model = []\n",
    "test_averages = []\n",
    "\n",
    "# Iterating over classifiers\n",
    "for classifier in classifier_list: \n",
    "    scores = cross_validate(classifier, X_train, y_train, scoring=\"accuracy\", return_train_score=True, return_estimator=True)\n",
    "    best_model.append(deepcopy(scores[\"estimator\"][np.argmax(scores[\"train_score\"])]))\n"
   ]
  },
  {
   "cell_type": "markdown",
   "metadata": {},
   "source": [
    "# 5) Testing and results\n"
   ]
  },
  {
   "cell_type": "code",
   "execution_count": 10,
   "metadata": {},
   "outputs": [
    {
     "name": "stdout",
     "output_type": "stream",
     "text": [
      "[0.6813186813186813, 0.5659340659340659, 0.7747252747252747, 0.6373626373626373, 0.7362637362637363]\n"
     ]
    }
   ],
   "source": [
    "# Array to add all test scores obtain using predict method of each classifier.\n",
    "# In order K-Neighbors Classifier, Bayesian Classifier, Decision Tree Classifier, Support Vector Machine Classifier and Multi Layer Perceptron Classifier\n",
    "test_scores = [] \n",
    "\n",
    "# Iterating over best models obtained by crossvalidation\n",
    "for model in best_model:\n",
    "    y_pred = model.predict(X_test)\n",
    "    test_scores.append(accuracy_score(y_test, y_pred))\n",
    "\n",
    "print(test_scores)"
   ]
  },
  {
   "cell_type": "code",
   "execution_count": null,
   "metadata": {},
   "outputs": [],
   "source": []
  }
 ],
 "metadata": {
  "kernelspec": {
   "display_name": "Python 3",
   "language": "python",
   "name": "python3"
  },
  "language_info": {
   "codemirror_mode": {
    "name": "ipython",
    "version": 3
   },
   "file_extension": ".py",
   "mimetype": "text/x-python",
   "name": "python",
   "nbconvert_exporter": "python",
   "pygments_lexer": "ipython3",
   "version": "3.7.3"
  }
 },
 "nbformat": 4,
 "nbformat_minor": 4
}
