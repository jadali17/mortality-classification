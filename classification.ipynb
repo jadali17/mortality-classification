{
 "cells": [
  {
   "cell_type": "code",
   "execution_count": 34,
   "metadata": {},
   "outputs": [],
   "source": [
    "import numpy as np\n",
    "import pandas as pd\n",
    "import matplotlib.pyplot as plt\n",
    "import seaborn as sns\n",
    "from matplotlib import pyplot\n",
    "\n",
    "\n",
    "from copy import deepcopy\n",
    "\n",
    "from sklearn.metrics import accuracy_score\n",
    "\n",
    "from sklearn.model_selection import train_test_split\n",
    "from sklearn.model_selection import cross_validate\n",
    "\n",
    "from sklearn.neighbors import KNeighborsClassifier\n",
    "from sklearn.naive_bayes import GaussianNB\n",
    "from sklearn.tree import DecisionTreeClassifier\n",
    "from sklearn.svm import SVC\n",
    "from sklearn.neural_network import MLPClassifier\n",
    "from sklearn.model_selection import GridSearchCV\n"
   ]
  },
  {
   "cell_type": "markdown",
   "metadata": {},
   "source": [
    "# 1) Loading in the merged data and droping rows containing null values"
   ]
  },
  {
   "cell_type": "code",
   "execution_count": 52,
   "metadata": {},
   "outputs": [
    {
     "name": "stdout",
     "output_type": "stream",
     "text": [
      "Number of rows that contain NaN: 16\n"
     ]
    },
    {
     "data": {
      "text/html": [
       "<div>\n",
       "<style scoped>\n",
       "    .dataframe tbody tr th:only-of-type {\n",
       "        vertical-align: middle;\n",
       "    }\n",
       "\n",
       "    .dataframe tbody tr th {\n",
       "        vertical-align: top;\n",
       "    }\n",
       "\n",
       "    .dataframe thead th {\n",
       "        text-align: right;\n",
       "    }\n",
       "</style>\n",
       "<table border=\"1\" class=\"dataframe\">\n",
       "  <thead>\n",
       "    <tr style=\"text-align: right;\">\n",
       "      <th></th>\n",
       "      <th>mortality_rate</th>\n",
       "      <th>medical_doctors</th>\n",
       "      <th>hospital_beds</th>\n",
       "      <th>Pharmacists</th>\n",
       "      <th>Che</th>\n",
       "    </tr>\n",
       "  </thead>\n",
       "  <tbody>\n",
       "    <tr>\n",
       "      <th>count</th>\n",
       "      <td>908.000000</td>\n",
       "      <td>908.000000</td>\n",
       "      <td>908.00000</td>\n",
       "      <td>908.000000</td>\n",
       "      <td>908.000000</td>\n",
       "    </tr>\n",
       "    <tr>\n",
       "      <th>mean</th>\n",
       "      <td>127.705947</td>\n",
       "      <td>25.914464</td>\n",
       "      <td>45.98304</td>\n",
       "      <td>5.074839</td>\n",
       "      <td>1707.823128</td>\n",
       "    </tr>\n",
       "    <tr>\n",
       "      <th>std</th>\n",
       "      <td>67.796818</td>\n",
       "      <td>10.952747</td>\n",
       "      <td>26.41928</td>\n",
       "      <td>3.527541</td>\n",
       "      <td>2038.839974</td>\n",
       "    </tr>\n",
       "    <tr>\n",
       "      <th>min</th>\n",
       "      <td>49.000000</td>\n",
       "      <td>0.231000</td>\n",
       "      <td>0.10000</td>\n",
       "      <td>0.003000</td>\n",
       "      <td>6.000000</td>\n",
       "    </tr>\n",
       "    <tr>\n",
       "      <th>25%</th>\n",
       "      <td>76.000000</td>\n",
       "      <td>19.447000</td>\n",
       "      <td>26.07500</td>\n",
       "      <td>1.919250</td>\n",
       "      <td>216.825000</td>\n",
       "    </tr>\n",
       "    <tr>\n",
       "      <th>50%</th>\n",
       "      <td>104.000000</td>\n",
       "      <td>26.749000</td>\n",
       "      <td>40.70000</td>\n",
       "      <td>5.260500</td>\n",
       "      <td>803.750000</td>\n",
       "    </tr>\n",
       "    <tr>\n",
       "      <th>75%</th>\n",
       "      <td>160.000000</td>\n",
       "      <td>33.842500</td>\n",
       "      <td>64.72500</td>\n",
       "      <td>7.165250</td>\n",
       "      <td>2577.025000</td>\n",
       "    </tr>\n",
       "    <tr>\n",
       "      <th>max</th>\n",
       "      <td>469.000000</td>\n",
       "      <td>70.946000</td>\n",
       "      <td>139.70000</td>\n",
       "      <td>18.017000</td>\n",
       "      <td>10014.700000</td>\n",
       "    </tr>\n",
       "  </tbody>\n",
       "</table>\n",
       "</div>"
      ],
      "text/plain": [
       "       mortality_rate  medical_doctors  hospital_beds  Pharmacists  \\\n",
       "count      908.000000       908.000000      908.00000   908.000000   \n",
       "mean       127.705947        25.914464       45.98304     5.074839   \n",
       "std         67.796818        10.952747       26.41928     3.527541   \n",
       "min         49.000000         0.231000        0.10000     0.003000   \n",
       "25%         76.000000        19.447000       26.07500     1.919250   \n",
       "50%        104.000000        26.749000       40.70000     5.260500   \n",
       "75%        160.000000        33.842500       64.72500     7.165250   \n",
       "max        469.000000        70.946000      139.70000    18.017000   \n",
       "\n",
       "                Che  \n",
       "count    908.000000  \n",
       "mean    1707.823128  \n",
       "std     2038.839974  \n",
       "min        6.000000  \n",
       "25%      216.825000  \n",
       "50%      803.750000  \n",
       "75%     2577.025000  \n",
       "max    10014.700000  "
      ]
     },
     "execution_count": 52,
     "metadata": {},
     "output_type": "execute_result"
    }
   ],
   "source": [
    "# Read data from merged_data.csv file\n",
    "data_init = pd.read_csv(\"Data/merged_data.csv\")\n",
    "print(\"Number of rows that contain NaN: \" + str(np.count_nonzero(data_init.isnull())))   \n",
    "# Drop rows where any value is null\n",
    "data = data_init.dropna(axis=0)\n",
    "data.describe()"
   ]
  },
  {
   "cell_type": "code",
   "execution_count": 36,
   "metadata": {
    "scrolled": false
   },
   "outputs": [
    {
     "data": {
      "text/plain": [
       "<AxesSubplot:>"
      ]
     },
     "execution_count": 36,
     "metadata": {},
     "output_type": "execute_result"
    },
    {
     "data": {
      "image/png": "[encoded data removed]",
      "text/plain": [
       "<Figure size 720x720 with 2 Axes>"
      ]
     },
     "metadata": {
      "needs_background": "light"
     },
     "output_type": "display_data"
    }
   ],
   "source": [
    "fig, ax= pyplot.subplots(figsize=(10,10))\n",
    "sns.heatmap(data.corr(),annot=True)"
   ]
  },
  {
   "cell_type": "markdown",
   "metadata": {},
   "source": [
    "# 2) Creating classes according to intervals for the mortality\n"
   ]
  },
  {
   "cell_type": "code",
   "execution_count": 37,
   "metadata": {},
   "outputs": [],
   "source": [
    "# Creating classes for mortality by discretizing the mortality_rate data\n",
    "discretize = lambda x : \"low\" if x < 80 else \"average\" if x < 200 else \"high\" if x < 325 else \"highest\"\n",
    "data.loc[:, \"mortality_rate\"] = data.loc[:, \"mortality_rate\"].map(discretize)\n"
   ]
  },
  {
   "cell_type": "code",
   "execution_count": 38,
   "metadata": {
    "scrolled": false
   },
   "outputs": [
    {
     "data": {
      "text/plain": [
       "<AxesSubplot:xlabel='mortality_rate', ylabel='count'>"
      ]
     },
     "execution_count": 38,
     "metadata": {},
     "output_type": "execute_result"
    },
    {
     "data": {
      "image/png": "[encoded data removed]",
      "text/plain": [
       "<Figure size 576x576 with 1 Axes>"
      ]
     },
     "metadata": {
      "needs_background": "light"
     },
     "output_type": "display_data"
    }
   ],
   "source": [
    "fig, ax= pyplot.subplots(figsize=(8,8))\n",
    "sns.countplot(x=data['mortality_rate'],ax=ax)"
   ]
  },
  {
   "cell_type": "markdown",
   "metadata": {},
   "source": [
    "# 3) Splitting in X, y data and training, testing sets"
   ]
  },
  {
   "cell_type": "code",
   "execution_count": 15,
   "metadata": {},
   "outputs": [],
   "source": [
    "# Data splitting into training and testing sets\n",
    "data_X = data.drop(data.columns[[0, 1, 2]], axis=1)\n",
    "data_y = data.drop(data.columns[[0, 1, 3, 4, 5, 6]], axis=1)\n",
    "data_y.head(15)\n",
    "\n",
    "# Splitting into train and test sets\n",
    "X_train, X_test, y_train, y_test = train_test_split(data_X, np.ravel(data_y), test_size=.20, shuffle=True)\n"
   ]
  },
  {
   "cell_type": "markdown",
   "metadata": {},
   "source": [
    "# 4) Model selection"
   ]
  },
  {
   "cell_type": "markdown",
   "metadata": {},
   "source": [
    "## 4.1 k-nn parameters"
   ]
  },
  {
   "cell_type": "code",
   "execution_count": 5,
   "metadata": {
    "scrolled": true
   },
   "outputs": [
    {
     "name": "stdout",
     "output_type": "stream",
     "text": [
      "0.754822862541332 {'n_neighbors': 8}\n"
     ]
    }
   ],
   "source": [
    "# k-nn parameters\n",
    "parameters = { 'n_neighbors': range(3, 100) }\n",
    "clf = GridSearchCV(KNeighborsClassifier(), parameters, n_jobs=4)\n",
    "clf.fit(X=X_train, y=y_train)\n",
    "knn_model = clf.best_estimator_\n",
    "print (\"Testing accuracy: {0} \\nBest parameters: {1} \".format(clf.best_score_, clf.best_params_))\n",
    "print(\"Training accuracy:\",clf.score(X_train,y_train))"
   ]
  },
  {
   "cell_type": "markdown",
   "metadata": {},
   "source": [
    "## 4.2 Decision tree parameters"
   ]
  },
  {
   "cell_type": "code",
   "execution_count": 6,
   "metadata": {},
   "outputs": [
    {
     "name": "stdout",
     "output_type": "stream",
     "text": [
      "Evaluating decision tree parameters...\n",
      "0.8829192253188476 {'criterion': 'entropy', 'max_depth': 78, 'min_samples_split': 2}\n"
     ]
    }
   ],
   "source": [
    "parameters = { 'criterion': ['gini', 'entropy'], \n",
    "              'max_depth': range(1, 100), \n",
    "              'min_samples_split': range(2, 10) }\n",
    "\n",
    "print(\"Evaluating decision tree parameters...\")\n",
    "clf = GridSearchCV(DecisionTreeClassifier(), parameters, n_jobs=4)\n",
    "clf.fit(X=X_train, y=y_train)\n",
    "tree_model = clf.best_estimator_\n",
    "print (\"Testing accuracy: {0} \\nBest parameters: {1} \".format(clf.best_score_, clf.best_params_))\n",
    "print(\"Training accuracy:\",clf.score(X_train,y_train))"
   ]
  },
  {
   "cell_type": "markdown",
   "metadata": {},
   "source": [
    "## 4.3 SVC parameters"
   ]
  },
  {
   "cell_type": "code",
   "execution_count": 7,
   "metadata": {},
   "outputs": [
    {
     "name": "stdout",
     "output_type": "stream",
     "text": [
      "Evaluating SVC parameters...\n",
      "0.7051771374586678 {'C': 0.9052631578947369, 'kernel': 'rbf', 'shrinking': True}\n"
     ]
    }
   ],
   "source": [
    "parameters = { 'C': np.linspace(start=0.1, stop=1, num=20),\n",
    "              'kernel': ['poly', 'rbf', 'sigmoid'],\n",
    "              'shrinking': [True, False]\n",
    "             }\n",
    "\n",
    "print(\"Evaluating SVC parameters...\")\n",
    "clf = GridSearchCV(SVC(), parameters, n_jobs=8)\n",
    "clf.fit(X=X_train, y=y_train)\n",
    "svc_model = clf.best_estimator_\n",
    "print (\"Testing accuracy: {0} \\nBest parameters: {1} \".format(clf.best_score_, clf.best_params_))\n",
    "print(\"Training accuracy:\",clf.score(X_train,y_train))"
   ]
  },
  {
   "cell_type": "markdown",
   "metadata": {},
   "source": [
    "## 4.4 NN parameters"
   ]
  },
  {
   "cell_type": "code",
   "execution_count": null,
   "metadata": {
    "scrolled": true
   },
   "outputs": [],
   "source": [
    "small = (8, 8, 8)\n",
    "medium = (8, 16, 32, 16, 8)\n",
    "large = (32, 64, 128, 256, 128, 64, 32)\n",
    "very_large = (64, 128, 256, 512, 512, 512, 256, 128, 64)\n",
    "\n",
    "networks = [ small, medium, large, very_large ]\n",
    "parameters = {'hidden_layer_sizes': networks}\n",
    "\n",
    "clf = GridSearchCV(MLPClassifier(), parameters, n_jobs=4)\n",
    "clf.fit(X=X_train, y=y_train)\n",
    "nn_model = clf.best_estimator_\n",
    "print (\"Testing accuracy: {0} \\nBest parameters: {1} \".format(clf.best_score_, clf.best_params_))\n",
    "print(\"Training accuracy:\",clf.score(X_train,y_train))"
   ]
  },
  {
   "cell_type": "markdown",
   "metadata": {},
   "source": [
    "## 4.5 Cross-validation and model selection"
   ]
  },
  {
   "cell_type": "code",
   "execution_count": 9,
   "metadata": {
    "scrolled": true
   },
   "outputs": [],
   "source": [
    "# Different classifiers for cross-validation\n",
    "bayes_model = GaussianNB()\n",
    "\n",
    "# Creating list of clasifiers\n",
    "classifier_list = [knn_model, bayes_model, tree_model, svc_model, nn_model]\n",
    "best_model = []\n",
    "test_averages = []\n",
    "\n",
    "# Iterating over classifiers\n",
    "for classifier in classifier_list: \n",
    "    scores = cross_validate(classifier, X_train, y_train, scoring=\"accuracy\", return_train_score=True, return_estimator=True)\n",
    "    best_model.append(deepcopy(scores[\"estimator\"][np.argmax(scores[\"train_score\"])]))\n"
   ]
  },
  {
   "cell_type": "markdown",
   "metadata": {},
   "source": [
    "# 5) Testing and results\n"
   ]
  },
  {
   "cell_type": "code",
   "execution_count": 10,
   "metadata": {},
   "outputs": [
    {
     "name": "stdout",
     "output_type": "stream",
     "text": [
      "[0.6813186813186813, 0.5659340659340659, 0.7747252747252747, 0.6373626373626373, 0.7362637362637363]\n"
     ]
    }
   ],
   "source": [
    "# Array to add all test scores obtain using predict method of each classifier.\n",
    "# In order K-Neighbors Classifier, Bayesian Classifier, Decision Tree Classifier, Support Vector Machine Classifier and Multi Layer Perceptron Classifier\n",
    "test_scores = [] \n",
    "\n",
    "# Iterating over best models obtained by crossvalidation\n",
    "for model in best_model:\n",
    "    y_pred = model.predict(X_test)\n",
    "    test_scores.append(accuracy_score(y_test, y_pred))\n",
    "\n",
    "print(test_scores)"
   ]
  },
  {
   "cell_type": "code",
   "execution_count": null,
   "metadata": {},
   "outputs": [],
   "source": []
  }
 ],
 "metadata": {
  "kernelspec": {
   "display_name": "Python 3",
   "language": "python",
   "name": "python3"
  },
  "language_info": {
   "codemirror_mode": {
    "name": "ipython",
    "version": 3
   },
   "file_extension": ".py",
   "mimetype": "text/x-python",
   "name": "python",
   "nbconvert_exporter": "python",
   "pygments_lexer": "ipython3",
   "version": "3.7.8"
  }
 },
 "nbformat": 4,
 "nbformat_minor": 4
}
