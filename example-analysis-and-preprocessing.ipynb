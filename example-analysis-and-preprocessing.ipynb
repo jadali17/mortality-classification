{
 "cells": [
  {
   "cell_type": "code",
   "execution_count": 296,
   "metadata": {},
   "outputs": [],
   "source": [
    "import pandas as pd\n",
    "import seaborn as sns\n",
    "from matplotlib import pyplot\n",
    "import numpy as np\n",
    "import matplotlib.pyplot as plt"
   ]
  },
  {
   "cell_type": "markdown",
   "metadata": {},
   "source": [
    "## 1) Loading in the mortality data\n",
    "#### TODO Is grouping them by country and getting the mean the way to go? Do we simply take the latest 5 years? need more looking into"
   ]
  },
  {
   "cell_type": "code",
   "execution_count": 141,
   "metadata": {
    "scrolled": false
   },
   "outputs": [
    {
     "data": {
      "text/html": [
       "<div>\n",
       "<style scoped>\n",
       "    .dataframe tbody tr th:only-of-type {\n",
       "        vertical-align: middle;\n",
       "    }\n",
       "\n",
       "    .dataframe tbody tr th {\n",
       "        vertical-align: top;\n",
       "    }\n",
       "\n",
       "    .dataframe thead th {\n",
       "        text-align: right;\n",
       "    }\n",
       "</style>\n",
       "<table border=\"1\" class=\"dataframe\">\n",
       "  <thead>\n",
       "    <tr style=\"text-align: right;\">\n",
       "      <th></th>\n",
       "      <th>mortality_rate</th>\n",
       "    </tr>\n",
       "  </thead>\n",
       "  <tbody>\n",
       "    <tr>\n",
       "      <th>count</th>\n",
       "      <td>183.000000</td>\n",
       "    </tr>\n",
       "    <tr>\n",
       "      <th>mean</th>\n",
       "      <td>193.530376</td>\n",
       "    </tr>\n",
       "    <tr>\n",
       "      <th>std</th>\n",
       "      <td>109.179405</td>\n",
       "    </tr>\n",
       "    <tr>\n",
       "      <th>min</th>\n",
       "      <td>59.117647</td>\n",
       "    </tr>\n",
       "    <tr>\n",
       "      <th>25%</th>\n",
       "      <td>110.264706</td>\n",
       "    </tr>\n",
       "    <tr>\n",
       "      <th>50%</th>\n",
       "      <td>164.882353</td>\n",
       "    </tr>\n",
       "    <tr>\n",
       "      <th>75%</th>\n",
       "      <td>252.294118</td>\n",
       "    </tr>\n",
       "    <tr>\n",
       "      <th>max</th>\n",
       "      <td>549.352941</td>\n",
       "    </tr>\n",
       "  </tbody>\n",
       "</table>\n",
       "</div>"
      ],
      "text/plain": [
       "       mortality_rate\n",
       "count      183.000000\n",
       "mean       193.530376\n",
       "std        109.179405\n",
       "min         59.117647\n",
       "25%        110.264706\n",
       "50%        164.882353\n",
       "75%        252.294118\n",
       "max        549.352941"
      ]
     },
     "execution_count": 141,
     "metadata": {},
     "output_type": "execute_result"
    }
   ],
   "source": [
    "data=pd.read_csv(\"Data/adult_mortality_by_country.csv\",header=1)\n",
    "mortality=data.drop(columns=['Male','Female'])\n",
    "mortality=mortality.rename(columns={\"Both sexes\": \"mortality_rate\"})\n",
    "mortality['mortality_rate'].describe()\n",
    "mortality['Year']=pd.to_datetime(mortality['Year'],format='%Y')\n",
    "mortality=mortality.groupby(['Country']).mean()\n",
    "mortality.describe()"
   ]
  },
  {
   "cell_type": "markdown",
   "metadata": {},
   "source": [
    "##  Visualizing outliers"
   ]
  },
  {
   "cell_type": "markdown",
   "metadata": {},
   "source": [
    "#### The outliers in the outliers are not real outliers rather variance, apparently some countries really have that high of a mortality rate"
   ]
  },
  {
   "cell_type": "code",
   "execution_count": 142,
   "metadata": {},
   "outputs": [
    {
     "data": {
      "text/plain": [
       "<matplotlib.axes._subplots.AxesSubplot at 0x1d48b094cc8>"
      ]
     },
     "execution_count": 142,
     "metadata": {},
     "output_type": "execute_result"
    },
    {
     "data": {
      "image/png": "[encoded data removed]",
      "text/plain": [
       "<Figure size 576x576 with 1 Axes>"
      ]
     },
     "metadata": {
      "needs_background": "light"
     },
     "output_type": "display_data"
    }
   ],
   "source": [
    "fig, ax= pyplot.subplots(figsize=(8,8))\n",
    "sns.boxplot(x=\"mortality_rate\", data=mortality, ax=ax)"
   ]
  },
  {
   "cell_type": "code",
   "execution_count": 143,
   "metadata": {},
   "outputs": [
    {
     "data": {
      "text/html": [
       "<div>\n",
       "<style scoped>\n",
       "    .dataframe tbody tr th:only-of-type {\n",
       "        vertical-align: middle;\n",
       "    }\n",
       "\n",
       "    .dataframe tbody tr th {\n",
       "        vertical-align: top;\n",
       "    }\n",
       "\n",
       "    .dataframe thead th {\n",
       "        text-align: right;\n",
       "    }\n",
       "</style>\n",
       "<table border=\"1\" class=\"dataframe\">\n",
       "  <thead>\n",
       "    <tr style=\"text-align: right;\">\n",
       "      <th></th>\n",
       "      <th>mortality_rate</th>\n",
       "    </tr>\n",
       "    <tr>\n",
       "      <th>Country</th>\n",
       "      <th></th>\n",
       "    </tr>\n",
       "  </thead>\n",
       "  <tbody>\n",
       "    <tr>\n",
       "      <th>Botswana</th>\n",
       "      <td>431.294118</td>\n",
       "    </tr>\n",
       "    <tr>\n",
       "      <th>Burundi</th>\n",
       "      <td>334.941176</td>\n",
       "    </tr>\n",
       "    <tr>\n",
       "      <th>Cameroon</th>\n",
       "      <td>375.176471</td>\n",
       "    </tr>\n",
       "    <tr>\n",
       "      <th>Central African Republic</th>\n",
       "      <td>491.647059</td>\n",
       "    </tr>\n",
       "    <tr>\n",
       "      <th>Chad</th>\n",
       "      <td>391.470588</td>\n",
       "    </tr>\n",
       "    <tr>\n",
       "      <th>Congo</th>\n",
       "      <td>341.470588</td>\n",
       "    </tr>\n",
       "    <tr>\n",
       "      <th>Côte d'Ivoire</th>\n",
       "      <td>437.117647</td>\n",
       "    </tr>\n",
       "    <tr>\n",
       "      <th>Equatorial Guinea</th>\n",
       "      <td>341.588235</td>\n",
       "    </tr>\n",
       "    <tr>\n",
       "      <th>Eritrea</th>\n",
       "      <td>322.000000</td>\n",
       "    </tr>\n",
       "    <tr>\n",
       "      <th>Eswatini</th>\n",
       "      <td>529.000000</td>\n",
       "    </tr>\n",
       "    <tr>\n",
       "      <th>Ethiopia</th>\n",
       "      <td>305.529412</td>\n",
       "    </tr>\n",
       "    <tr>\n",
       "      <th>Guinea</th>\n",
       "      <td>305.470588</td>\n",
       "    </tr>\n",
       "    <tr>\n",
       "      <th>Kenya</th>\n",
       "      <td>348.235294</td>\n",
       "    </tr>\n",
       "    <tr>\n",
       "      <th>Lesotho</th>\n",
       "      <td>536.235294</td>\n",
       "    </tr>\n",
       "    <tr>\n",
       "      <th>Malawi</th>\n",
       "      <td>424.529412</td>\n",
       "    </tr>\n",
       "    <tr>\n",
       "      <th>Mozambique</th>\n",
       "      <td>416.941176</td>\n",
       "    </tr>\n",
       "    <tr>\n",
       "      <th>Namibia</th>\n",
       "      <td>383.823529</td>\n",
       "    </tr>\n",
       "    <tr>\n",
       "      <th>Nigeria</th>\n",
       "      <td>386.470588</td>\n",
       "    </tr>\n",
       "    <tr>\n",
       "      <th>Rwanda</th>\n",
       "      <td>303.294118</td>\n",
       "    </tr>\n",
       "    <tr>\n",
       "      <th>Sierra Leone</th>\n",
       "      <td>452.117647</td>\n",
       "    </tr>\n",
       "    <tr>\n",
       "      <th>Somalia</th>\n",
       "      <td>334.647059</td>\n",
       "    </tr>\n",
       "    <tr>\n",
       "      <th>South Africa</th>\n",
       "      <td>400.411765</td>\n",
       "    </tr>\n",
       "    <tr>\n",
       "      <th>South Sudan</th>\n",
       "      <td>363.764706</td>\n",
       "    </tr>\n",
       "    <tr>\n",
       "      <th>Togo</th>\n",
       "      <td>310.588235</td>\n",
       "    </tr>\n",
       "    <tr>\n",
       "      <th>Uganda</th>\n",
       "      <td>403.705882</td>\n",
       "    </tr>\n",
       "    <tr>\n",
       "      <th>United Republic of Tanzania</th>\n",
       "      <td>374.882353</td>\n",
       "    </tr>\n",
       "    <tr>\n",
       "      <th>Zambia</th>\n",
       "      <td>446.764706</td>\n",
       "    </tr>\n",
       "    <tr>\n",
       "      <th>Zimbabwe</th>\n",
       "      <td>549.352941</td>\n",
       "    </tr>\n",
       "  </tbody>\n",
       "</table>\n",
       "</div>"
      ],
      "text/plain": [
       "                             mortality_rate\n",
       "Country                                    \n",
       "Botswana                         431.294118\n",
       "Burundi                          334.941176\n",
       "Cameroon                         375.176471\n",
       "Central African Republic         491.647059\n",
       "Chad                             391.470588\n",
       "Congo                            341.470588\n",
       "Côte d'Ivoire                    437.117647\n",
       "Equatorial Guinea                341.588235\n",
       "Eritrea                          322.000000\n",
       "Eswatini                         529.000000\n",
       "Ethiopia                         305.529412\n",
       "Guinea                           305.470588\n",
       "Kenya                            348.235294\n",
       "Lesotho                          536.235294\n",
       "Malawi                           424.529412\n",
       "Mozambique                       416.941176\n",
       "Namibia                          383.823529\n",
       "Nigeria                          386.470588\n",
       "Rwanda                           303.294118\n",
       "Sierra Leone                     452.117647\n",
       "Somalia                          334.647059\n",
       "South Africa                     400.411765\n",
       "South Sudan                      363.764706\n",
       "Togo                             310.588235\n",
       "Uganda                           403.705882\n",
       "United Republic of Tanzania      374.882353\n",
       "Zambia                           446.764706\n",
       "Zimbabwe                         549.352941"
      ]
     },
     "execution_count": 143,
     "metadata": {},
     "output_type": "execute_result"
    }
   ],
   "source": [
    "mortality.loc[mortality[\"mortality_rate\"]>300]"
   ]
  },
  {
   "cell_type": "markdown",
   "metadata": {},
   "source": [
    "## Defining Low and High mortality rate\n",
    "#### TODO- SHOULD DOUBLE CHECK WHAT IS HIGH AND LOW MORTALITY. FOR NOW CHOSE ACCORDING TO THE QUARTILES"
   ]
  },
  {
   "cell_type": "code",
   "execution_count": 144,
   "metadata": {
    "scrolled": false
   },
   "outputs": [
    {
     "data": {
      "text/html": [
       "<div>\n",
       "<style scoped>\n",
       "    .dataframe tbody tr th:only-of-type {\n",
       "        vertical-align: middle;\n",
       "    }\n",
       "\n",
       "    .dataframe tbody tr th {\n",
       "        vertical-align: top;\n",
       "    }\n",
       "\n",
       "    .dataframe thead th {\n",
       "        text-align: right;\n",
       "    }\n",
       "</style>\n",
       "<table border=\"1\" class=\"dataframe\">\n",
       "  <thead>\n",
       "    <tr style=\"text-align: right;\">\n",
       "      <th></th>\n",
       "      <th>mortality_rate</th>\n",
       "    </tr>\n",
       "    <tr>\n",
       "      <th>Country</th>\n",
       "      <th></th>\n",
       "    </tr>\n",
       "  </thead>\n",
       "  <tbody>\n",
       "    <tr>\n",
       "      <th>Afghanistan</th>\n",
       "      <td>high</td>\n",
       "    </tr>\n",
       "    <tr>\n",
       "      <th>Albania</th>\n",
       "      <td>low</td>\n",
       "    </tr>\n",
       "    <tr>\n",
       "      <th>Algeria</th>\n",
       "      <td>low</td>\n",
       "    </tr>\n",
       "    <tr>\n",
       "      <th>Angola</th>\n",
       "      <td>high</td>\n",
       "    </tr>\n",
       "    <tr>\n",
       "      <th>Antigua and Barbuda</th>\n",
       "      <td>low</td>\n",
       "    </tr>\n",
       "    <tr>\n",
       "      <th>Argentina</th>\n",
       "      <td>low</td>\n",
       "    </tr>\n",
       "    <tr>\n",
       "      <th>Armenia</th>\n",
       "      <td>low</td>\n",
       "    </tr>\n",
       "    <tr>\n",
       "      <th>Australia</th>\n",
       "      <td>low</td>\n",
       "    </tr>\n",
       "    <tr>\n",
       "      <th>Austria</th>\n",
       "      <td>low</td>\n",
       "    </tr>\n",
       "    <tr>\n",
       "      <th>Azerbaijan</th>\n",
       "      <td>low</td>\n",
       "    </tr>\n",
       "    <tr>\n",
       "      <th>Bahamas</th>\n",
       "      <td>high</td>\n",
       "    </tr>\n",
       "    <tr>\n",
       "      <th>Bahrain</th>\n",
       "      <td>low</td>\n",
       "    </tr>\n",
       "    <tr>\n",
       "      <th>Bangladesh</th>\n",
       "      <td>low</td>\n",
       "    </tr>\n",
       "    <tr>\n",
       "      <th>Barbados</th>\n",
       "      <td>low</td>\n",
       "    </tr>\n",
       "    <tr>\n",
       "      <th>Belarus</th>\n",
       "      <td>high</td>\n",
       "    </tr>\n",
       "  </tbody>\n",
       "</table>\n",
       "</div>"
      ],
      "text/plain": [
       "                    mortality_rate\n",
       "Country                           \n",
       "Afghanistan                   high\n",
       "Albania                        low\n",
       "Algeria                        low\n",
       "Angola                        high\n",
       "Antigua and Barbuda            low\n",
       "Argentina                      low\n",
       "Armenia                        low\n",
       "Australia                      low\n",
       "Austria                        low\n",
       "Azerbaijan                     low\n",
       "Bahamas                       high\n",
       "Bahrain                        low\n",
       "Bangladesh                     low\n",
       "Barbados                       low\n",
       "Belarus                       high"
      ]
     },
     "execution_count": 144,
     "metadata": {},
     "output_type": "execute_result"
    }
   ],
   "source": [
    "mortality['mortality_rate'] = np.where(mortality['mortality_rate'] <150, 'low', 'high')\n",
    "mortality.head(15)                                                             "
   ]
  },
  {
   "cell_type": "markdown",
   "metadata": {},
   "source": [
    "#### View number of countries with low and high mortality rate"
   ]
  },
  {
   "cell_type": "code",
   "execution_count": 145,
   "metadata": {
    "scrolled": false
   },
   "outputs": [
    {
     "data": {
      "text/plain": [
       "<matplotlib.axes._subplots.AxesSubplot at 0x1d48b156e48>"
      ]
     },
     "execution_count": 145,
     "metadata": {},
     "output_type": "execute_result"
    },
    {
     "data": {
      "image/png": "[encoded data removed]",
      "text/plain": [
       "<Figure size 576x576 with 1 Axes>"
      ]
     },
     "metadata": {
      "needs_background": "light"
     },
     "output_type": "display_data"
    }
   ],
   "source": [
    "fig, ax= pyplot.subplots(figsize=(8,8))\n",
    "sns.countplot(x=mortality['mortality_rate'],ax=ax)"
   ]
  },
  {
   "cell_type": "markdown",
   "metadata": {},
   "source": [
    "## 2) Loading in the doctor data\n",
    "#### TODO Is grouping them by country and getting the mean the way to go? Do we simply take the latest 5 years? need more looking into"
   ]
  },
  {
   "cell_type": "code",
   "execution_count": 146,
   "metadata": {},
   "outputs": [],
   "source": [
    "data=pd.read_csv(\"Data/medical_doctors.csv\")\n",
    "doctors=data.drop(data.columns[[3,4,5,6]], axis=1)\n",
    "doctors['Year']=pd.to_datetime(doctors['Year'],format='%Y')\n",
    "doctors=doctors.rename(columns={\"Medical doctors (per 10 000 population)\": \"medical_doctors\"})\n",
    "doctors=doctors.groupby(['Country']).mean()"
   ]
  },
  {
   "cell_type": "markdown",
   "metadata": {},
   "source": [
    "#### By merging as below, we take the union of both dataframes therefore we're eliminating some rows which don't exist in the other"
   ]
  },
  {
   "cell_type": "code",
   "execution_count": 147,
   "metadata": {
    "scrolled": false
   },
   "outputs": [
    {
     "data": {
      "text/html": [
       "<div>\n",
       "<style scoped>\n",
       "    .dataframe tbody tr th:only-of-type {\n",
       "        vertical-align: middle;\n",
       "    }\n",
       "\n",
       "    .dataframe tbody tr th {\n",
       "        vertical-align: top;\n",
       "    }\n",
       "\n",
       "    .dataframe thead th {\n",
       "        text-align: right;\n",
       "    }\n",
       "</style>\n",
       "<table border=\"1\" class=\"dataframe\">\n",
       "  <thead>\n",
       "    <tr style=\"text-align: right;\">\n",
       "      <th></th>\n",
       "      <th>mortality_rate</th>\n",
       "      <th>medical_doctors</th>\n",
       "    </tr>\n",
       "    <tr>\n",
       "      <th>Country</th>\n",
       "      <th></th>\n",
       "      <th></th>\n",
       "    </tr>\n",
       "  </thead>\n",
       "  <tbody>\n",
       "    <tr>\n",
       "      <th>Afghanistan</th>\n",
       "      <td>high</td>\n",
       "      <td>2.322167</td>\n",
       "    </tr>\n",
       "    <tr>\n",
       "      <th>Albania</th>\n",
       "      <td>low</td>\n",
       "      <td>13.092864</td>\n",
       "    </tr>\n",
       "    <tr>\n",
       "      <th>Algeria</th>\n",
       "      <td>low</td>\n",
       "      <td>14.450000</td>\n",
       "    </tr>\n",
       "    <tr>\n",
       "      <th>Angola</th>\n",
       "      <td>high</td>\n",
       "      <td>1.168000</td>\n",
       "    </tr>\n",
       "    <tr>\n",
       "      <th>Antigua and Barbuda</th>\n",
       "      <td>low</td>\n",
       "      <td>13.394500</td>\n",
       "    </tr>\n",
       "  </tbody>\n",
       "</table>\n",
       "</div>"
      ],
      "text/plain": [
       "                    mortality_rate  medical_doctors\n",
       "Country                                            \n",
       "Afghanistan                   high         2.322167\n",
       "Albania                        low        13.092864\n",
       "Algeria                        low        14.450000\n",
       "Angola                        high         1.168000\n",
       "Antigua and Barbuda            low        13.394500"
      ]
     },
     "execution_count": 147,
     "metadata": {},
     "output_type": "execute_result"
    }
   ],
   "source": [
    "merged_data = pd.merge(left=mortality, right=doctors, left_on='Country', right_on='Country')\n",
    "merged_data.head(5)"
   ]
  },
  {
   "cell_type": "markdown",
   "metadata": {},
   "source": [
    "## 3) Loading in the hospital bed data"
   ]
  },
  {
   "cell_type": "code",
   "execution_count": 148,
   "metadata": {},
   "outputs": [],
   "source": [
    "data=pd.read_csv(\"Data/hospital_bed_density.csv\")\n",
    "hospital_beds=data\n",
    "hospital_beds['Year']=pd.to_datetime(hospital_beds['Year'],format='%Y')\n",
    "hospital_beds=hospital_beds.rename(columns={\"Hospital beds (per 10 000 population)\": \"hospital_beds\"})\n",
    "hospital_beds=hospital_beds.groupby(['Country']).mean()"
   ]
  },
  {
   "cell_type": "code",
   "execution_count": 149,
   "metadata": {},
   "outputs": [
    {
     "data": {
      "text/html": [
       "<div>\n",
       "<style scoped>\n",
       "    .dataframe tbody tr th:only-of-type {\n",
       "        vertical-align: middle;\n",
       "    }\n",
       "\n",
       "    .dataframe tbody tr th {\n",
       "        vertical-align: top;\n",
       "    }\n",
       "\n",
       "    .dataframe thead th {\n",
       "        text-align: right;\n",
       "    }\n",
       "</style>\n",
       "<table border=\"1\" class=\"dataframe\">\n",
       "  <thead>\n",
       "    <tr style=\"text-align: right;\">\n",
       "      <th></th>\n",
       "      <th>mortality_rate</th>\n",
       "      <th>medical_doctors</th>\n",
       "      <th>hospital_beds</th>\n",
       "    </tr>\n",
       "    <tr>\n",
       "      <th>Country</th>\n",
       "      <th></th>\n",
       "      <th></th>\n",
       "      <th></th>\n",
       "    </tr>\n",
       "  </thead>\n",
       "  <tbody>\n",
       "    <tr>\n",
       "      <th>Afghanistan</th>\n",
       "      <td>high</td>\n",
       "      <td>2.322167</td>\n",
       "      <td>4.322222</td>\n",
       "    </tr>\n",
       "    <tr>\n",
       "      <th>Albania</th>\n",
       "      <td>low</td>\n",
       "      <td>13.092864</td>\n",
       "      <td>30.523077</td>\n",
       "    </tr>\n",
       "    <tr>\n",
       "      <th>Algeria</th>\n",
       "      <td>low</td>\n",
       "      <td>14.450000</td>\n",
       "      <td>18.000000</td>\n",
       "    </tr>\n",
       "    <tr>\n",
       "      <th>Angola</th>\n",
       "      <td>high</td>\n",
       "      <td>1.168000</td>\n",
       "      <td>8.000000</td>\n",
       "    </tr>\n",
       "    <tr>\n",
       "      <th>Antigua and Barbuda</th>\n",
       "      <td>low</td>\n",
       "      <td>13.394500</td>\n",
       "      <td>30.983333</td>\n",
       "    </tr>\n",
       "    <tr>\n",
       "      <th>...</th>\n",
       "      <td>...</td>\n",
       "      <td>...</td>\n",
       "      <td>...</td>\n",
       "    </tr>\n",
       "    <tr>\n",
       "      <th>Venezuela (Bolivarian Republic of)</th>\n",
       "      <td>high</td>\n",
       "      <td>19.475000</td>\n",
       "      <td>8.340000</td>\n",
       "    </tr>\n",
       "    <tr>\n",
       "      <th>Viet Nam</th>\n",
       "      <td>low</td>\n",
       "      <td>6.880167</td>\n",
       "      <td>26.925000</td>\n",
       "    </tr>\n",
       "    <tr>\n",
       "      <th>Yemen</th>\n",
       "      <td>high</td>\n",
       "      <td>3.481600</td>\n",
       "      <td>6.672222</td>\n",
       "    </tr>\n",
       "    <tr>\n",
       "      <th>Zambia</th>\n",
       "      <td>high</td>\n",
       "      <td>2.101700</td>\n",
       "      <td>19.500000</td>\n",
       "    </tr>\n",
       "    <tr>\n",
       "      <th>Zimbabwe</th>\n",
       "      <td>high</td>\n",
       "      <td>1.283706</td>\n",
       "      <td>23.500000</td>\n",
       "    </tr>\n",
       "  </tbody>\n",
       "</table>\n",
       "<p>178 rows × 3 columns</p>\n",
       "</div>"
      ],
      "text/plain": [
       "                                   mortality_rate  medical_doctors  \\\n",
       "Country                                                              \n",
       "Afghanistan                                  high         2.322167   \n",
       "Albania                                       low        13.092864   \n",
       "Algeria                                       low        14.450000   \n",
       "Angola                                       high         1.168000   \n",
       "Antigua and Barbuda                           low        13.394500   \n",
       "...                                           ...              ...   \n",
       "Venezuela (Bolivarian Republic of)           high        19.475000   \n",
       "Viet Nam                                      low         6.880167   \n",
       "Yemen                                        high         3.481600   \n",
       "Zambia                                       high         2.101700   \n",
       "Zimbabwe                                     high         1.283706   \n",
       "\n",
       "                                    hospital_beds  \n",
       "Country                                            \n",
       "Afghanistan                              4.322222  \n",
       "Albania                                 30.523077  \n",
       "Algeria                                 18.000000  \n",
       "Angola                                   8.000000  \n",
       "Antigua and Barbuda                     30.983333  \n",
       "...                                           ...  \n",
       "Venezuela (Bolivarian Republic of)       8.340000  \n",
       "Viet Nam                                26.925000  \n",
       "Yemen                                    6.672222  \n",
       "Zambia                                  19.500000  \n",
       "Zimbabwe                                23.500000  \n",
       "\n",
       "[178 rows x 3 columns]"
      ]
     },
     "execution_count": 149,
     "metadata": {},
     "output_type": "execute_result"
    }
   ],
   "source": [
    "merged_data= pd.merge(left=merged_data, right=hospital_beds, left_on='Country', right_on='Country')\n",
    "merged_data"
   ]
  },
  {
   "cell_type": "markdown",
   "metadata": {},
   "source": [
    "## 4) Viewing correlation of data"
   ]
  },
  {
   "cell_type": "code",
   "execution_count": 150,
   "metadata": {
    "scrolled": false
   },
   "outputs": [
    {
     "data": {
      "text/html": [
       "<div>\n",
       "<style scoped>\n",
       "    .dataframe tbody tr th:only-of-type {\n",
       "        vertical-align: middle;\n",
       "    }\n",
       "\n",
       "    .dataframe tbody tr th {\n",
       "        vertical-align: top;\n",
       "    }\n",
       "\n",
       "    .dataframe thead th {\n",
       "        text-align: right;\n",
       "    }\n",
       "</style>\n",
       "<table border=\"1\" class=\"dataframe\">\n",
       "  <thead>\n",
       "    <tr style=\"text-align: right;\">\n",
       "      <th></th>\n",
       "      <th>mortality_rate</th>\n",
       "      <th>medical_doctors</th>\n",
       "      <th>hospital_beds</th>\n",
       "      <th>high</th>\n",
       "      <th>low</th>\n",
       "    </tr>\n",
       "    <tr>\n",
       "      <th>Country</th>\n",
       "      <th></th>\n",
       "      <th></th>\n",
       "      <th></th>\n",
       "      <th></th>\n",
       "      <th></th>\n",
       "    </tr>\n",
       "  </thead>\n",
       "  <tbody>\n",
       "    <tr>\n",
       "      <th>Afghanistan</th>\n",
       "      <td>high</td>\n",
       "      <td>2.322167</td>\n",
       "      <td>4.322222</td>\n",
       "      <td>1</td>\n",
       "      <td>0</td>\n",
       "    </tr>\n",
       "    <tr>\n",
       "      <th>Albania</th>\n",
       "      <td>low</td>\n",
       "      <td>13.092864</td>\n",
       "      <td>30.523077</td>\n",
       "      <td>0</td>\n",
       "      <td>1</td>\n",
       "    </tr>\n",
       "  </tbody>\n",
       "</table>\n",
       "</div>"
      ],
      "text/plain": [
       "            mortality_rate  medical_doctors  hospital_beds  high  low\n",
       "Country                                                              \n",
       "Afghanistan           high         2.322167       4.322222     1    0\n",
       "Albania                low        13.092864      30.523077     0    1"
      ]
     },
     "execution_count": 150,
     "metadata": {},
     "output_type": "execute_result"
    }
   ],
   "source": [
    "df=pd.get_dummies(merged_data['mortality_rate'])\n",
    "df_corr = pd.concat([merged_data, df], axis=1)\n",
    "df_corr.head(2)"
   ]
  },
  {
   "cell_type": "code",
   "execution_count": 151,
   "metadata": {
    "scrolled": false
   },
   "outputs": [
    {
     "data": {
      "text/plain": [
       "<matplotlib.axes._subplots.AxesSubplot at 0x1d48b2fe248>"
      ]
     },
     "execution_count": 151,
     "metadata": {},
     "output_type": "execute_result"
    },
    {
     "data": {
      "image/png": "[encoded data removed]",
      "text/plain": [
       "<Figure size 720x720 with 2 Axes>"
      ]
     },
     "metadata": {
      "needs_background": "light"
     },
     "output_type": "display_data"
    }
   ],
   "source": [
    "fig, ax= pyplot.subplots(figsize=(10,10))\n",
    "sns.heatmap(df_corr.corr(),annot=True)"
   ]
  },
  {
   "cell_type": "markdown",
   "metadata": {},
   "source": [
    "## 5) Creating the models"
   ]
  },
  {
   "cell_type": "markdown",
   "metadata": {},
   "source": [
    "#### Splitting the data into training and testing"
   ]
  },
  {
   "cell_type": "code",
   "execution_count": 152,
   "metadata": {},
   "outputs": [],
   "source": [
    "from sklearn.model_selection import train_test_split\n",
    "merged_data=merged_data.reset_index()\n",
    "feature_columns=['hospital_beds','medical_doctors']\n",
    "X=merged_data[feature_columns]\n",
    "y=merged_data.mortality_rate\n",
    "X_train, X_test, y_train, y_test = train_test_split(X, y, test_size=0.3, random_state=42)"
   ]
  },
  {
   "cell_type": "markdown",
   "metadata": {},
   "source": [
    "###  Training and performing the predictions using different models ( We can see that it overfits on some since the training accuracy is 1)"
   ]
  },
  {
   "cell_type": "markdown",
   "metadata": {},
   "source": [
    "###### Decision tree"
   ]
  },
  {
   "cell_type": "code",
   "execution_count": 277,
   "metadata": {},
   "outputs": [
    {
     "name": "stdout",
     "output_type": "stream",
     "text": [
      "Test accuracy: 0.7962962962962963\n",
      "Training accuracy: 0.8870967741935484\n"
     ]
    }
   ],
   "source": [
    "from sklearn import tree\n",
    "from sklearn import metrics\n",
    "clf = tree.DecisionTreeClassifier(criterion=\"gini\",splitter='best',max_depth=6,min_samples_split=15)\n",
    "clf = clf.fit(X_train, y_train)\n",
    "y_pred=clf.predict(X_test)\n",
    "\n",
    "print(\"Test accuracy:\",metrics.accuracy_score(y_test, y_pred))\n",
    "print(\"Training accuracy:\",clf.score(X_train,y_train))"
   ]
  },
  {
   "cell_type": "code",
   "execution_count": 278,
   "metadata": {},
   "outputs": [
    {
     "name": "stdout",
     "output_type": "stream",
     "text": [
      "0.7826666666666667 {'max_depth': 6}\n"
     ]
    }
   ],
   "source": [
    "#Method to find the optimal max_depth\n",
    "import numpy as np\n",
    "import pandas as pd\n",
    "from sklearn import tree\n",
    "from sklearn.model_selection import GridSearchCV\n",
    "\n",
    "\n",
    "\n",
    "parameters = {'max_depth':range(3,20)}\n",
    "clf = GridSearchCV(tree.DecisionTreeClassifier(), parameters, n_jobs=4)\n",
    "clf.fit(X=X_train, y=y_train)\n",
    "tree_model = clf.best_estimator_\n",
    "print (clf.best_score_, clf.best_params_) "
   ]
  },
  {
   "cell_type": "markdown",
   "metadata": {},
   "source": [
    "#####  Random Forest"
   ]
  },
  {
   "cell_type": "code",
   "execution_count": 301,
   "metadata": {
    "scrolled": true
   },
   "outputs": [
    {
     "name": "stdout",
     "output_type": "stream",
     "text": [
      "Test accuracy: 0.8333333333333334\n",
      "Training accuracy: 0.8870967741935484\n"
     ]
    }
   ],
   "source": [
    "from sklearn.ensemble import RandomForestClassifier\n",
    "clf = RandomForestClassifier(n_estimators=20,max_depth=4,min_samples_leaf=4) # https://intellipaat.com/community/9495/how-do-i-solve-overfitting-in-random-forest-of-python-sklearn\n",
    "clf = clf.fit(X_train, y_train)\n",
    "y_pred=clf.predict(X_test)\n",
    "\n",
    "print(\"Test accuracy:\",metrics.accuracy_score(y_test, y_pred))\n",
    "print(\"Training accuracy:\",clf.score(X_train,y_train))\n",
    "\n",
    "\n",
    "\n"
   ]
  },
  {
   "cell_type": "code",
   "execution_count": 315,
   "metadata": {
    "scrolled": true
   },
   "outputs": [
    {
     "data": {
      "image/png": "[encoded data removed]",
      "text/plain": [
       "<Figure size 432x288 with 1 Axes>"
      ]
     },
     "metadata": {
      "needs_background": "light"
     },
     "output_type": "display_data"
    }
   ],
   "source": [
    "#viewing optimal estimator\n",
    "train_result=[]\n",
    "test_result=[]\n",
    "estimators=[]\n",
    "for n in range (1,200,20):\n",
    "    clf = RandomForestClassifier(n_estimators=n,max_depth=4,min_samples_leaf=4) # https://intellipaat.com/community/9495/how-do-i-solve-overfitting-in-random-forest-of-python-sklearn\n",
    "    clf = clf.fit(X_train, y_train)\n",
    "    y_pred=clf.predict(X_test)\n",
    "    estimators.append(n)\n",
    "    test_result.append(metrics.accuracy_score(y_test, y_pred))\n",
    "    train_result.append(clf.score(X_train,y_train))\n",
    "line1,=plt.plot(estimators, test_result, label=\"Test\")\n",
    "line2,=plt.plot(estimators, train_result, label=\"Train\")\n",
    "plt.legend(handles=[line1, line2])\n",
    "plt.ylabel('Accuracy')\n",
    "plt.xlabel('Tree depth')\n",
    "plt.show()"
   ]
  },
  {
   "cell_type": "code",
   "execution_count": 318,
   "metadata": {},
   "outputs": [
    {
     "data": {
      "image/png": "[encoded data removed]",
      "text/plain": [
       "<Figure size 432x288 with 1 Axes>"
      ]
     },
     "metadata": {
      "needs_background": "light"
     },
     "output_type": "display_data"
    }
   ],
   "source": [
    "#viewing optimal max_depth\n",
    "train_result=[]\n",
    "test_result=[]\n",
    "estimators=[]\n",
    "for n in range (1,20,1):\n",
    "    clf = RandomForestClassifier(n_estimators=20,max_depth=n,min_samples_leaf=4) # https://intellipaat.com/community/9495/how-do-i-solve-overfitting-in-random-forest-of-python-sklearn\n",
    "    clf = clf.fit(X_train, y_train)\n",
    "    y_pred=clf.predict(X_test)\n",
    "    estimators.append(n)\n",
    "    test_result.append(metrics.accuracy_score(y_test, y_pred))\n",
    "    train_result.append(clf.score(X_train,y_train))\n",
    "line1,=plt.plot(estimators, test_result, label=\"Test\")\n",
    "line2,=plt.plot(estimators, train_result, label=\"Train\")\n",
    "plt.legend(handles=[line1, line2])\n",
    "plt.ylabel('Accuracy')\n",
    "plt.xlabel('max_depth')\n",
    "plt.show()"
   ]
  },
  {
   "cell_type": "markdown",
   "metadata": {},
   "source": [
    "#### Ada boost"
   ]
  },
  {
   "cell_type": "code",
   "execution_count": 205,
   "metadata": {},
   "outputs": [
    {
     "name": "stdout",
     "output_type": "stream",
     "text": [
      "Test accuracy: 0.7962962962962963\n",
      "Training accuracy: 0.9758064516129032\n"
     ]
    }
   ],
   "source": [
    "from sklearn.ensemble import AdaBoostClassifier\n",
    "clf = AdaBoostClassifier()\n",
    "clf = clf.fit(X_train, y_train)\n",
    "y_pred=clf.predict(X_test)\n",
    "\n",
    "print(\"Test accuracy:\",metrics.accuracy_score(y_test, y_pred))\n",
    "print(\"Training accuracy:\",clf.score(X_train,y_train))"
   ]
  },
  {
   "cell_type": "markdown",
   "metadata": {},
   "source": [
    "#### Bagging classifier"
   ]
  },
  {
   "cell_type": "code",
   "execution_count": 209,
   "metadata": {},
   "outputs": [
    {
     "name": "stdout",
     "output_type": "stream",
     "text": [
      "Test accuracy: 0.7962962962962963\n",
      "Training accuracy: 1.0\n"
     ]
    }
   ],
   "source": [
    "from sklearn.ensemble import BaggingClassifier\n",
    "clf = BaggingClassifier()\n",
    "clf = clf.fit(X_train, y_train)\n",
    "y_pred=clf.predict(X_test)\n",
    "\n",
    "print(\"Test accuracy:\",metrics.accuracy_score(y_test, y_pred))\n",
    "print(\"Training accuracy:\",clf.score(X_train,y_train))"
   ]
  },
  {
   "cell_type": "code",
   "execution_count": null,
   "metadata": {},
   "outputs": [],
   "source": [
    " "
   ]
  }
 ],
 "metadata": {
  "kernelspec": {
   "display_name": "Python 3",
   "language": "python",
   "name": "python3"
  },
  "language_info": {
   "codemirror_mode": {
    "name": "ipython",
    "version": 3
   },
   "file_extension": ".py",
   "mimetype": "text/x-python",
   "name": "python",
   "nbconvert_exporter": "python",
   "pygments_lexer": "ipython3",
   "version": "3.7.7"
  }
 },
 "nbformat": 4,
 "nbformat_minor": 4
}
